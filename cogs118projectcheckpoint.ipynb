{
 "cells": [
  {
   "cell_type": "code",
   "execution_count": 50,
   "id": "98edadb3",
   "metadata": {},
   "outputs": [],
   "source": [
    "import pandas as pd\n"
   ]
  },
  {
   "cell_type": "code",
   "execution_count": 51,
   "id": "0a1dfc3d",
   "metadata": {},
   "outputs": [
    {
     "data": {
      "text/plain": [
       "Date                    0\n",
       "Time                    0\n",
       "S1_Temp                 0\n",
       "S2_Temp                 0\n",
       "S3_Temp                 0\n",
       "S4_Temp                 0\n",
       "S1_Light                0\n",
       "S2_Light                0\n",
       "S3_Light                0\n",
       "S4_Light                0\n",
       "S1_Sound                0\n",
       "S2_Sound                0\n",
       "S3_Sound                0\n",
       "S4_Sound                0\n",
       "S5_CO2                  0\n",
       "S5_CO2_Slope            0\n",
       "S6_PIR                  0\n",
       "S7_PIR                  0\n",
       "Room_Occupancy_Count    0\n",
       "dtype: int64"
      ]
     },
     "execution_count": 51,
     "metadata": {},
     "output_type": "execute_result"
    }
   ],
   "source": [
    "data=pd.read_csv(r\"C:/Users/17831/Downloads/Occupancy_Estimation.csv\")\n",
    "# load data\n",
    "#data['Date'] = pd.to_datetime(data['Date'])\n",
    "#change string to date(maybenot)\n",
    "data.isna().sum()\n",
    "# checking if we have empty columns\n",
    "#looks clean so we will proceed"
   ]
  },
  {
   "cell_type": "code",
   "execution_count": 52,
   "id": "6acb1c69",
   "metadata": {},
   "outputs": [
    {
     "data": {
      "text/html": [
       "<div>\n",
       "<style scoped>\n",
       "    .dataframe tbody tr th:only-of-type {\n",
       "        vertical-align: middle;\n",
       "    }\n",
       "\n",
       "    .dataframe tbody tr th {\n",
       "        vertical-align: top;\n",
       "    }\n",
       "\n",
       "    .dataframe thead th {\n",
       "        text-align: right;\n",
       "    }\n",
       "</style>\n",
       "<table border=\"1\" class=\"dataframe\">\n",
       "  <thead>\n",
       "    <tr style=\"text-align: right;\">\n",
       "      <th></th>\n",
       "      <th>Date</th>\n",
       "      <th>Time</th>\n",
       "      <th>S1_Temp</th>\n",
       "      <th>S2_Temp</th>\n",
       "      <th>S3_Temp</th>\n",
       "      <th>S4_Temp</th>\n",
       "      <th>S1_Light</th>\n",
       "      <th>S2_Light</th>\n",
       "      <th>S3_Light</th>\n",
       "      <th>S4_Light</th>\n",
       "      <th>...</th>\n",
       "      <th>S6_PIR</th>\n",
       "      <th>S7_PIR</th>\n",
       "      <th>Room_Occupancy_Count</th>\n",
       "      <th>one_hot_2017/12/22</th>\n",
       "      <th>one_hot_2017/12/23</th>\n",
       "      <th>one_hot_2017/12/24</th>\n",
       "      <th>one_hot_2017/12/25</th>\n",
       "      <th>one_hot_2017/12/26</th>\n",
       "      <th>one_hot_2018/01/10</th>\n",
       "      <th>one_hot_2018/01/11</th>\n",
       "    </tr>\n",
       "  </thead>\n",
       "  <tbody>\n",
       "    <tr>\n",
       "      <th>0</th>\n",
       "      <td>2017/12/22</td>\n",
       "      <td>10:49:41</td>\n",
       "      <td>24.94</td>\n",
       "      <td>24.75</td>\n",
       "      <td>24.56</td>\n",
       "      <td>25.38</td>\n",
       "      <td>121</td>\n",
       "      <td>34</td>\n",
       "      <td>53</td>\n",
       "      <td>40</td>\n",
       "      <td>...</td>\n",
       "      <td>0</td>\n",
       "      <td>0</td>\n",
       "      <td>1</td>\n",
       "      <td>1</td>\n",
       "      <td>0</td>\n",
       "      <td>0</td>\n",
       "      <td>0</td>\n",
       "      <td>0</td>\n",
       "      <td>0</td>\n",
       "      <td>0</td>\n",
       "    </tr>\n",
       "    <tr>\n",
       "      <th>1</th>\n",
       "      <td>2017/12/22</td>\n",
       "      <td>10:50:12</td>\n",
       "      <td>24.94</td>\n",
       "      <td>24.75</td>\n",
       "      <td>24.56</td>\n",
       "      <td>25.44</td>\n",
       "      <td>121</td>\n",
       "      <td>33</td>\n",
       "      <td>53</td>\n",
       "      <td>40</td>\n",
       "      <td>...</td>\n",
       "      <td>0</td>\n",
       "      <td>0</td>\n",
       "      <td>1</td>\n",
       "      <td>1</td>\n",
       "      <td>0</td>\n",
       "      <td>0</td>\n",
       "      <td>0</td>\n",
       "      <td>0</td>\n",
       "      <td>0</td>\n",
       "      <td>0</td>\n",
       "    </tr>\n",
       "    <tr>\n",
       "      <th>2</th>\n",
       "      <td>2017/12/22</td>\n",
       "      <td>10:50:42</td>\n",
       "      <td>25.00</td>\n",
       "      <td>24.75</td>\n",
       "      <td>24.50</td>\n",
       "      <td>25.44</td>\n",
       "      <td>121</td>\n",
       "      <td>34</td>\n",
       "      <td>53</td>\n",
       "      <td>40</td>\n",
       "      <td>...</td>\n",
       "      <td>0</td>\n",
       "      <td>0</td>\n",
       "      <td>1</td>\n",
       "      <td>1</td>\n",
       "      <td>0</td>\n",
       "      <td>0</td>\n",
       "      <td>0</td>\n",
       "      <td>0</td>\n",
       "      <td>0</td>\n",
       "      <td>0</td>\n",
       "    </tr>\n",
       "    <tr>\n",
       "      <th>3</th>\n",
       "      <td>2017/12/22</td>\n",
       "      <td>10:51:13</td>\n",
       "      <td>25.00</td>\n",
       "      <td>24.75</td>\n",
       "      <td>24.56</td>\n",
       "      <td>25.44</td>\n",
       "      <td>121</td>\n",
       "      <td>34</td>\n",
       "      <td>53</td>\n",
       "      <td>40</td>\n",
       "      <td>...</td>\n",
       "      <td>0</td>\n",
       "      <td>0</td>\n",
       "      <td>1</td>\n",
       "      <td>1</td>\n",
       "      <td>0</td>\n",
       "      <td>0</td>\n",
       "      <td>0</td>\n",
       "      <td>0</td>\n",
       "      <td>0</td>\n",
       "      <td>0</td>\n",
       "    </tr>\n",
       "    <tr>\n",
       "      <th>4</th>\n",
       "      <td>2017/12/22</td>\n",
       "      <td>10:51:44</td>\n",
       "      <td>25.00</td>\n",
       "      <td>24.75</td>\n",
       "      <td>24.56</td>\n",
       "      <td>25.44</td>\n",
       "      <td>121</td>\n",
       "      <td>34</td>\n",
       "      <td>54</td>\n",
       "      <td>40</td>\n",
       "      <td>...</td>\n",
       "      <td>0</td>\n",
       "      <td>0</td>\n",
       "      <td>1</td>\n",
       "      <td>1</td>\n",
       "      <td>0</td>\n",
       "      <td>0</td>\n",
       "      <td>0</td>\n",
       "      <td>0</td>\n",
       "      <td>0</td>\n",
       "      <td>0</td>\n",
       "    </tr>\n",
       "    <tr>\n",
       "      <th>...</th>\n",
       "      <td>...</td>\n",
       "      <td>...</td>\n",
       "      <td>...</td>\n",
       "      <td>...</td>\n",
       "      <td>...</td>\n",
       "      <td>...</td>\n",
       "      <td>...</td>\n",
       "      <td>...</td>\n",
       "      <td>...</td>\n",
       "      <td>...</td>\n",
       "      <td>...</td>\n",
       "      <td>...</td>\n",
       "      <td>...</td>\n",
       "      <td>...</td>\n",
       "      <td>...</td>\n",
       "      <td>...</td>\n",
       "      <td>...</td>\n",
       "      <td>...</td>\n",
       "      <td>...</td>\n",
       "      <td>...</td>\n",
       "      <td>...</td>\n",
       "    </tr>\n",
       "    <tr>\n",
       "      <th>10124</th>\n",
       "      <td>2018/01/11</td>\n",
       "      <td>08:58:07</td>\n",
       "      <td>25.06</td>\n",
       "      <td>25.13</td>\n",
       "      <td>24.69</td>\n",
       "      <td>25.31</td>\n",
       "      <td>6</td>\n",
       "      <td>7</td>\n",
       "      <td>33</td>\n",
       "      <td>22</td>\n",
       "      <td>...</td>\n",
       "      <td>0</td>\n",
       "      <td>0</td>\n",
       "      <td>0</td>\n",
       "      <td>0</td>\n",
       "      <td>0</td>\n",
       "      <td>0</td>\n",
       "      <td>0</td>\n",
       "      <td>0</td>\n",
       "      <td>0</td>\n",
       "      <td>1</td>\n",
       "    </tr>\n",
       "    <tr>\n",
       "      <th>10125</th>\n",
       "      <td>2018/01/11</td>\n",
       "      <td>08:58:37</td>\n",
       "      <td>25.06</td>\n",
       "      <td>25.06</td>\n",
       "      <td>24.69</td>\n",
       "      <td>25.25</td>\n",
       "      <td>6</td>\n",
       "      <td>7</td>\n",
       "      <td>34</td>\n",
       "      <td>22</td>\n",
       "      <td>...</td>\n",
       "      <td>0</td>\n",
       "      <td>0</td>\n",
       "      <td>0</td>\n",
       "      <td>0</td>\n",
       "      <td>0</td>\n",
       "      <td>0</td>\n",
       "      <td>0</td>\n",
       "      <td>0</td>\n",
       "      <td>0</td>\n",
       "      <td>1</td>\n",
       "    </tr>\n",
       "    <tr>\n",
       "      <th>10126</th>\n",
       "      <td>2018/01/11</td>\n",
       "      <td>08:59:08</td>\n",
       "      <td>25.13</td>\n",
       "      <td>25.06</td>\n",
       "      <td>24.69</td>\n",
       "      <td>25.25</td>\n",
       "      <td>6</td>\n",
       "      <td>7</td>\n",
       "      <td>34</td>\n",
       "      <td>22</td>\n",
       "      <td>...</td>\n",
       "      <td>0</td>\n",
       "      <td>0</td>\n",
       "      <td>0</td>\n",
       "      <td>0</td>\n",
       "      <td>0</td>\n",
       "      <td>0</td>\n",
       "      <td>0</td>\n",
       "      <td>0</td>\n",
       "      <td>0</td>\n",
       "      <td>1</td>\n",
       "    </tr>\n",
       "    <tr>\n",
       "      <th>10127</th>\n",
       "      <td>2018/01/11</td>\n",
       "      <td>08:59:39</td>\n",
       "      <td>25.13</td>\n",
       "      <td>25.06</td>\n",
       "      <td>24.69</td>\n",
       "      <td>25.25</td>\n",
       "      <td>6</td>\n",
       "      <td>7</td>\n",
       "      <td>34</td>\n",
       "      <td>22</td>\n",
       "      <td>...</td>\n",
       "      <td>0</td>\n",
       "      <td>0</td>\n",
       "      <td>0</td>\n",
       "      <td>0</td>\n",
       "      <td>0</td>\n",
       "      <td>0</td>\n",
       "      <td>0</td>\n",
       "      <td>0</td>\n",
       "      <td>0</td>\n",
       "      <td>1</td>\n",
       "    </tr>\n",
       "    <tr>\n",
       "      <th>10128</th>\n",
       "      <td>2018/01/11</td>\n",
       "      <td>09:00:09</td>\n",
       "      <td>25.13</td>\n",
       "      <td>25.06</td>\n",
       "      <td>24.69</td>\n",
       "      <td>25.25</td>\n",
       "      <td>6</td>\n",
       "      <td>7</td>\n",
       "      <td>34</td>\n",
       "      <td>22</td>\n",
       "      <td>...</td>\n",
       "      <td>0</td>\n",
       "      <td>0</td>\n",
       "      <td>0</td>\n",
       "      <td>0</td>\n",
       "      <td>0</td>\n",
       "      <td>0</td>\n",
       "      <td>0</td>\n",
       "      <td>0</td>\n",
       "      <td>0</td>\n",
       "      <td>1</td>\n",
       "    </tr>\n",
       "  </tbody>\n",
       "</table>\n",
       "<p>10129 rows × 26 columns</p>\n",
       "</div>"
      ],
      "text/plain": [
       "             Date      Time  S1_Temp  S2_Temp  S3_Temp  S4_Temp  S1_Light  \\\n",
       "0      2017/12/22  10:49:41    24.94    24.75    24.56    25.38       121   \n",
       "1      2017/12/22  10:50:12    24.94    24.75    24.56    25.44       121   \n",
       "2      2017/12/22  10:50:42    25.00    24.75    24.50    25.44       121   \n",
       "3      2017/12/22  10:51:13    25.00    24.75    24.56    25.44       121   \n",
       "4      2017/12/22  10:51:44    25.00    24.75    24.56    25.44       121   \n",
       "...           ...       ...      ...      ...      ...      ...       ...   \n",
       "10124  2018/01/11  08:58:07    25.06    25.13    24.69    25.31         6   \n",
       "10125  2018/01/11  08:58:37    25.06    25.06    24.69    25.25         6   \n",
       "10126  2018/01/11  08:59:08    25.13    25.06    24.69    25.25         6   \n",
       "10127  2018/01/11  08:59:39    25.13    25.06    24.69    25.25         6   \n",
       "10128  2018/01/11  09:00:09    25.13    25.06    24.69    25.25         6   \n",
       "\n",
       "       S2_Light  S3_Light  S4_Light  ...  S6_PIR  S7_PIR  \\\n",
       "0            34        53        40  ...       0       0   \n",
       "1            33        53        40  ...       0       0   \n",
       "2            34        53        40  ...       0       0   \n",
       "3            34        53        40  ...       0       0   \n",
       "4            34        54        40  ...       0       0   \n",
       "...         ...       ...       ...  ...     ...     ...   \n",
       "10124         7        33        22  ...       0       0   \n",
       "10125         7        34        22  ...       0       0   \n",
       "10126         7        34        22  ...       0       0   \n",
       "10127         7        34        22  ...       0       0   \n",
       "10128         7        34        22  ...       0       0   \n",
       "\n",
       "       Room_Occupancy_Count  one_hot_2017/12/22  one_hot_2017/12/23  \\\n",
       "0                         1                   1                   0   \n",
       "1                         1                   1                   0   \n",
       "2                         1                   1                   0   \n",
       "3                         1                   1                   0   \n",
       "4                         1                   1                   0   \n",
       "...                     ...                 ...                 ...   \n",
       "10124                     0                   0                   0   \n",
       "10125                     0                   0                   0   \n",
       "10126                     0                   0                   0   \n",
       "10127                     0                   0                   0   \n",
       "10128                     0                   0                   0   \n",
       "\n",
       "       one_hot_2017/12/24  one_hot_2017/12/25  one_hot_2017/12/26  \\\n",
       "0                       0                   0                   0   \n",
       "1                       0                   0                   0   \n",
       "2                       0                   0                   0   \n",
       "3                       0                   0                   0   \n",
       "4                       0                   0                   0   \n",
       "...                   ...                 ...                 ...   \n",
       "10124                   0                   0                   0   \n",
       "10125                   0                   0                   0   \n",
       "10126                   0                   0                   0   \n",
       "10127                   0                   0                   0   \n",
       "10128                   0                   0                   0   \n",
       "\n",
       "       one_hot_2018/01/10  one_hot_2018/01/11  \n",
       "0                       0                   0  \n",
       "1                       0                   0  \n",
       "2                       0                   0  \n",
       "3                       0                   0  \n",
       "4                       0                   0  \n",
       "...                   ...                 ...  \n",
       "10124                   0                   1  \n",
       "10125                   0                   1  \n",
       "10126                   0                   1  \n",
       "10127                   0                   1  \n",
       "10128                   0                   1  \n",
       "\n",
       "[10129 rows x 26 columns]"
      ]
     },
     "execution_count": 52,
     "metadata": {},
     "output_type": "execute_result"
    }
   ],
   "source": [
    "#one hot encoding date variable\n",
    "\n",
    "unique = data['Date'].unique()\n",
    "\n",
    "(data['Date'] == unique[0]).astype(int)\n",
    "\n",
    "for i in unique:\n",
    "    data[f'one_hot_{i}']= (data['Date'] == i).astype(int)\n",
    "data"
   ]
  },
  {
   "cell_type": "code",
   "execution_count": 63,
   "id": "bb4988f9",
   "metadata": {},
   "outputs": [
    {
     "data": {
      "text/plain": [
       "{0, 1, 2, 3}"
      ]
     },
     "execution_count": 63,
     "metadata": {},
     "output_type": "execute_result"
    }
   ],
   "source": [
    "set(data[\"Room_Occupancy_Count\"])"
   ]
  },
  {
   "cell_type": "code",
   "execution_count": 57,
   "id": "546ffe85",
   "metadata": {},
   "outputs": [],
   "source": [
    "#making X,y\n",
    "X=data.drop(columns=[\"Room_Occupancy_Count\",\"Date\",\"Time\"])\n",
    "y=data[\"Room_Occupancy_Count\"]"
   ]
  },
  {
   "cell_type": "code",
   "execution_count": 22,
   "id": "3d76a49d",
   "metadata": {},
   "outputs": [],
   "source": [
    "from sklearn.model_selection import train_test_split\n"
   ]
  },
  {
   "cell_type": "code",
   "execution_count": 72,
   "id": "8ead52b4",
   "metadata": {},
   "outputs": [],
   "source": [
    "X_train, X_test, y_train, y_test = train_test_split(X, y, random_state=0)"
   ]
  },
  {
   "cell_type": "code",
   "execution_count": 73,
   "id": "8ff73b71",
   "metadata": {},
   "outputs": [
    {
     "data": {
      "text/plain": [
       "RandomForestClassifier(max_depth=3, random_state=0)"
      ]
     },
     "execution_count": 73,
     "metadata": {},
     "output_type": "execute_result"
    }
   ],
   "source": [
    "from sklearn.ensemble import RandomForestClassifier\n",
    "clf = RandomForestClassifier(max_depth=3, random_state=0)\n",
    "clf.fit(X_train, y_train)"
   ]
  },
  {
   "cell_type": "code",
   "execution_count": 74,
   "id": "06585285",
   "metadata": {},
   "outputs": [],
   "source": [
    "y_pred=clf.predict(X_test)\n",
    "    "
   ]
  },
  {
   "cell_type": "code",
   "execution_count": 75,
   "id": "79c6ecfe",
   "metadata": {},
   "outputs": [
    {
     "data": {
      "text/plain": [
       "0.9873667587840506"
      ]
     },
     "execution_count": 75,
     "metadata": {},
     "output_type": "execute_result"
    }
   ],
   "source": [
    "from sklearn.metrics import accuracy_score\n",
    "accuracy_score(y_test,y_pred)"
   ]
  },
  {
   "cell_type": "code",
   "execution_count": null,
   "id": "67b120fc",
   "metadata": {},
   "outputs": [],
   "source": [
    "accuracy_score(y_test,y_pred)"
   ]
  },
  {
   "cell_type": "code",
   "execution_count": 76,
   "id": "727889ac",
   "metadata": {},
   "outputs": [
    {
     "data": {
      "image/png": "[encoded data removed]",
      "text/plain": [
       "<Figure size 640x480 with 2 Axes>"
      ]
     },
     "metadata": {},
     "output_type": "display_data"
    }
   ],
   "source": [
    "from sklearn import metrics\n",
    "import matplotlib.pyplot as plt\n",
    "import numpy\n",
    "confusion_matrix = metrics.confusion_matrix(y_test,y_pred)\n",
    "cm_display = metrics.ConfusionMatrixDisplay(confusion_matrix = confusion_matrix)\n",
    "cm_display.plot()\n",
    "plt.show()\n"
   ]
  },
  {
   "cell_type": "markdown",
   "id": "92b33f21",
   "metadata": {},
   "source": [
    "We want to explore a little bit on how well we are doing, therefore we first try the simplist case, in which we just don't take the value of date, time into account but having all the other variables availble to use."
   ]
  },
  {
   "cell_type": "code",
   "execution_count": 77,
   "id": "9721f088",
   "metadata": {},
   "outputs": [],
   "source": [
    "data=pd.read_csv(r\"C:/Users/17831/Downloads/Occupancy_Estimation.csv\")\n",
    "X_without_date=data.drop(columns=[\"Room_Occupancy_Count\",\"Date\",\"Time\"])\n",
    "X_train_nodate, X_test_nodate, y_train_nodate, y_test_nodate = train_test_split(X_without_date, y, random_state=0)"
   ]
  },
  {
   "cell_type": "code",
   "execution_count": 78,
   "id": "d688c955",
   "metadata": {},
   "outputs": [],
   "source": [
    "clf_nodate = RandomForestClassifier(max_depth=3, random_state=0)"
   ]
  },
  {
   "cell_type": "code",
   "execution_count": 79,
   "id": "a4b03670",
   "metadata": {},
   "outputs": [
    {
     "data": {
      "text/plain": [
       "RandomForestClassifier(max_depth=3, random_state=0)"
      ]
     },
     "execution_count": 79,
     "metadata": {},
     "output_type": "execute_result"
    }
   ],
   "source": [
    "clf_nodate.fit(X_train_nodate, y_train_nodate)"
   ]
  },
  {
   "cell_type": "code",
   "execution_count": 80,
   "id": "11ff8ce9",
   "metadata": {},
   "outputs": [],
   "source": [
    "y_pred_nodate=clf_nodate.predict(X_test_nodate)"
   ]
  },
  {
   "cell_type": "code",
   "execution_count": 81,
   "id": "78dc8f84",
   "metadata": {},
   "outputs": [
    {
     "data": {
      "text/plain": [
       "0.9885511251480458"
      ]
     },
     "execution_count": 81,
     "metadata": {},
     "output_type": "execute_result"
    }
   ],
   "source": [
    "accuracy_score(y_test_nodate,y_pred_nodate)"
   ]
  },
  {
   "cell_type": "code",
   "execution_count": 82,
   "id": "d9be5be1",
   "metadata": {},
   "outputs": [
    {
     "data": {
      "image/png": "[encoded data removed]",
      "text/plain": [
       "<Figure size 640x480 with 2 Axes>"
      ]
     },
     "metadata": {},
     "output_type": "display_data"
    }
   ],
   "source": [
    "confusion_matrix = metrics.confusion_matrix(y_test_nodate,y_pred_nodate)\n",
    "cm_display = metrics.ConfusionMatrixDisplay(confusion_matrix = confusion_matrix)\n",
    "cm_display.plot()\n",
    "plt.show()"
   ]
  },
  {
   "cell_type": "markdown",
   "id": "b18bbe6b",
   "metadata": {},
   "source": [
    "The result suggest that maybe adding the date variable causes some overfitting of our model and therefore decreases the accuracy score. "
   ]
  }
 ],
 "metadata": {
  "kernelspec": {
   "display_name": "Python 3 (ipykernel)",
   "language": "python",
   "name": "python3"
  },
  "language_info": {
   "codemirror_mode": {
    "name": "ipython",
    "version": 3
   },
   "file_extension": ".py",
   "mimetype": "text/x-python",
   "name": "python",
   "nbconvert_exporter": "python",
   "pygments_lexer": "ipython3",
   "version": "3.9.13"
  }
 },
 "nbformat": 4,
 "nbformat_minor": 5
}
